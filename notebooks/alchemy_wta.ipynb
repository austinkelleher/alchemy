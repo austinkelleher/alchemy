{
  "nbformat": 4,
  "nbformat_minor": 0,
  "metadata": {
    "colab": {
      "name": "alchemy_wta.ipynb",
      "version": "0.3.2",
      "views": {},
      "default_view": {},
      "provenance": [],
      "collapsed_sections": []
    },
    "kernelspec": {
      "name": "python3",
      "display_name": "Python 3"
    }
  },
  "cells": [
    {
      "metadata": {
        "id": "t9Vv5NQKmmph",
        "colab_type": "code",
        "colab": {
          "autoexec": {
            "startup": false,
            "wait_interval": 0
          },
          "base_uri": "https://localhost:8080/",
          "height": 119
        },
        "outputId": "d5fc0fed-9e83-494c-ee11-6ae063bf1f49",
        "executionInfo": {
          "status": "ok",
          "timestamp": 1524688015055,
          "user_tz": 240,
          "elapsed": 9553,
          "user": {
            "displayName": "Sam Wenke",
            "photoUrl": "//lh6.googleusercontent.com/-f8Ky_WO2HTs/AAAAAAAAAAI/AAAAAAAAAG8/Q5eXh5dH1rg/s50-c-k-no/photo.jpg",
            "userId": "108962687437084869445"
          }
        }
      },
      "cell_type": "code",
      "source": [
        "!pip install -q tqdm observations\n",
        "!git clone -b experimental https://git@github.com/wenkesj/alchemy.git ~/alchemy\n",
        "!(cd ~/alchemy; pip install -q .)"
      ],
      "execution_count": 1,
      "outputs": [
        {
          "output_type": "stream",
          "text": [
            "Cloning into '/content/alchemy'...\n",
            "remote: Counting objects: 301, done.\u001b[K\n",
            "remote: Compressing objects: 100% (202/202), done.\u001b[K\n",
            "remote: Total 301 (delta 159), reused 238 (delta 96), pack-reused 0\u001b[K\n",
            "Receiving objects: 100% (301/301), 133.58 KiB | 8.35 MiB/s, done.\n",
            "Resolving deltas: 100% (159/159), done.\n"
          ],
          "name": "stdout"
        }
      ]
    },
    {
      "metadata": {
        "id": "rSm22tk3o9JE",
        "colab_type": "code",
        "colab": {
          "autoexec": {
            "startup": false,
            "wait_interval": 0
          }
        }
      },
      "cell_type": "code",
      "source": [
        "from observations import mnist\n",
        "\n",
        "(x_train, y_train), (x_test, y_test) = mnist('data')\n",
        "train_size, test_size = len(x_train), len(x_test)"
      ],
      "execution_count": 0,
      "outputs": []
    },
    {
      "metadata": {
        "id": "T7PIjAo_rCtR",
        "colab_type": "text"
      },
      "cell_type": "markdown",
      "source": [
        "# Shared Model Body for comparison"
      ]
    },
    {
      "metadata": {
        "id": "8wjkQjJRpFbt",
        "colab_type": "code",
        "colab": {
          "autoexec": {
            "startup": false,
            "wait_interval": 0
          }
        }
      },
      "cell_type": "code",
      "source": [
        "import alchemy as ay\n",
        "import tensorflow as tf\n",
        "\n",
        "def model_fn(inputs_ph):\n",
        "  return tf.cast(inputs_ph, tf.float32) / 127\n",
        "#   inputs = tf.reshape(inputs_ph, [tf.shape(inputs_ph)[0], 28, 28, 1])\n",
        "#   y = tf.layers.conv2d(tf.cast(inputs, tf.float32) / 127, 32, (3, 3), \n",
        "#                        activation=tf.nn.relu)\n",
        "#   y = tf.layers.conv2d(y, 64, (3, 3), activation=tf.nn.relu)\n",
        "#   y = tf.contrib.layers.flatten(y)\n",
        "#   return y"
      ],
      "execution_count": 0,
      "outputs": []
    },
    {
      "metadata": {
        "id": "rhzE4DS_nx-s",
        "colab_type": "code",
        "colab": {
          "autoexec": {
            "startup": false,
            "wait_interval": 0
          }
        }
      },
      "cell_type": "code",
      "source": [
        "import numpy as np\n",
        "import sys\n",
        "config = tf.ConfigProto()\n",
        "config.gpu_options.per_process_gpu_memory_fraction = 0.5 # maximun alloc gpu50% of MEM\n",
        "config.gpu_options.allow_growth = True #allocate dynamically\n",
        "from tqdm import trange\n",
        "\n",
        "epochs = 3\n",
        "batch_size = 32\n",
        "learning_rate = 6.25e-4\n",
        "\n",
        "\n",
        "def train_fn(model):\n",
        "  tf.reset_default_graph()\n",
        "  tf.set_random_seed(42)\n",
        "  np.random.seed(42)\n",
        "\n",
        "  tf.reset_default_graph()\n",
        "  \n",
        "  inputs_ph = tf.placeholder(tf.uint8, (None, 784), name='inputs')\n",
        "  labels_ph = tf.placeholder(tf.int32, (None,), name='labels')\n",
        "  is_training = tf.placeholder(tf.bool, [], name='training')\n",
        "\n",
        "  logits = model_fn(inputs_ph)\n",
        "  logits = model(logits, is_training)\n",
        "\n",
        "  pred_op = tf.argmax(logits, axis=-1, output_type=tf.int32)\n",
        "  accy_op = tf.reduce_mean(\n",
        "      tf.cast(tf.equal(pred_op, labels_ph), tf.float32), axis=-1)\n",
        "  loss_op = tf.reduce_mean(\n",
        "      tf.nn.sparse_softmax_cross_entropy_with_logits(\n",
        "          labels=labels_ph, logits=logits, name='loss'),\n",
        "      axis=-1)\n",
        "  train_op = tf.train.AdamOptimizer(\n",
        "      learning_rate=learning_rate).minimize(loss_op)\n",
        "\n",
        "  with tf.Session(config=config) as sess:\n",
        "    sess.run(tf.global_variables_initializer())\n",
        "    accuracies = []\n",
        "    for epoch in range(epochs):\n",
        "      train_loss = 0.\n",
        "      train_set = ay.utils.generate_dataset((x_train, y_train), batch_size)\n",
        "      train_msg = 'Epoch {} mean train loss = {:.4f}'\n",
        "      train_range = trange(\n",
        "          train_size // batch_size, \n",
        "          desc=train_msg.format(epoch, train_loss),\n",
        "          file=sys.stdout)\n",
        "      for _ in train_range:\n",
        "        x, y = next(train_set)\n",
        "        train_loss, _ = sess.run((loss_op, train_op), feed_dict={\n",
        "            inputs_ph: x,\n",
        "            labels_ph: y,\n",
        "            is_training: True,\n",
        "        })\n",
        "        train_range.set_description(train_msg.format(epoch, train_loss))\n",
        "\n",
        "      test_accy = 0.\n",
        "      test_set = ay.utils.generate_dataset((x_test, y_test), batch_size)\n",
        "      for test_steps_taken in range(test_size // batch_size):\n",
        "        x, y = next(test_set)\n",
        "        test_accy_ = sess.run(accy_op, feed_dict={\n",
        "            inputs_ph: x,\n",
        "            labels_ph: y,\n",
        "            is_training: False,\n",
        "        })\n",
        "        test_accy += test_accy_\n",
        "      accy = 100. * (test_accy / (test_steps_taken + 1))\n",
        "      accuracies.append(accy)\n",
        "      print('Epoch {} accy {:.2f}%'.format(epoch, accy))\n",
        "    return accuracies"
      ],
      "execution_count": 0,
      "outputs": []
    },
    {
      "metadata": {
        "id": "naupM98XtYPk",
        "colab_type": "text"
      },
      "cell_type": "markdown",
      "source": [
        "# Compare the 2 implementations (Dense vs. Dense + WTA)"
      ]
    },
    {
      "metadata": {
        "id": "HaHc94kSqlq_",
        "colab_type": "code",
        "colab": {
          "autoexec": {
            "startup": false,
            "wait_interval": 0
          }
        }
      },
      "cell_type": "code",
      "source": [
        "def dense(logits, is_training):\n",
        "  logits = tf.layers.dense(logits, units=128, activation=tf.nn.relu)\n",
        "  return tf.layers.dense(logits, units=10)\n",
        "\n",
        "def dense_d_wta(logits, is_training):\n",
        "  logits = tf.layers.dense(logits, units=128, activation=tf.nn.crelu)\n",
        "  logits = ay.contrib.layers.DWTA()(logits, training=is_training)\n",
        "  logits = tf.layers.dense(logits, units=10)\n",
        "  return logits\n",
        "\n",
        "models = [\n",
        "    dense,\n",
        "    dense_d_wta]"
      ],
      "execution_count": 0,
      "outputs": []
    },
    {
      "metadata": {
        "id": "_vsS3BzIpOCR",
        "colab_type": "code",
        "colab": {
          "autoexec": {
            "startup": false,
            "wait_interval": 0
          },
          "base_uri": "https://localhost:8080/",
          "height": 589
        },
        "outputId": "96db58a6-ec46-4c0b-e11e-672a4c09c3c3",
        "executionInfo": {
          "status": "ok",
          "timestamp": 1524688234730,
          "user_tz": 240,
          "elapsed": 211083,
          "user": {
            "displayName": "Sam Wenke",
            "photoUrl": "//lh6.googleusercontent.com/-f8Ky_WO2HTs/AAAAAAAAAAI/AAAAAAAAAG8/Q5eXh5dH1rg/s50-c-k-no/photo.jpg",
            "userId": "108962687437084869445"
          }
        }
      },
      "cell_type": "code",
      "source": [
        "import matplotlib.pyplot as plt\n",
        "import os\n",
        "os.environ[\"CUDA_VISIBLE_DEVICES\"] = '0' #use GPU with ID=0\n",
        "\n",
        "fig, ax = plt.subplots()\n",
        "ax.set_ylabel('% Accuracy')\n",
        "ax.set_xlabel('Epoch')\n",
        "ax.set_ylim([0, 100.])\n",
        "for name, accuracies in [(model.__name__, train_fn(model)) \n",
        "                         for model in models]:\n",
        "  ax.plot(accuracies, marker='o', label=name)\n",
        "_ = ax.legend(loc='lower right', shadow=True)"
      ],
      "execution_count": 6,
      "outputs": [
        {
          "output_type": "stream",
          "text": [
            "Epoch 0 mean train loss = 0.0505: 100%|██████████| 1875/1875 [00:11<00:00, 165.66it/s]\n"
          ],
          "name": "stdout"
        },
        {
          "output_type": "stream",
          "text": [
            "Epoch 0 accy 94.99%\n",
            "Epoch 1 mean train loss = 0.0469:  48%|████▊     | 898/1875 [00:05<00:05, 164.78it/s]"
          ],
          "name": "stdout"
        },
        {
          "output_type": "stream",
          "text": [
            "Epoch 1 mean train loss = 0.0576: 100%|██████████| 1875/1875 [00:11<00:00, 165.15it/s]\n",
            "Epoch 1 accy 95.99%\n",
            "Epoch 2 mean train loss = 0.0601:   3%|▎         | 48/1875 [00:00<00:13, 134.87it/s]"
          ],
          "name": "stdout"
        },
        {
          "output_type": "stream",
          "text": [
            "Epoch 2 mean train loss = 0.0474: 100%|██████████| 1875/1875 [00:11<00:00, 169.76it/s]\n"
          ],
          "name": "stdout"
        },
        {
          "output_type": "stream",
          "text": [
            "Epoch 2 accy 96.54%\n",
            "Epoch 0 mean train loss = 0.1849:  42%|████▏     | 787/1875 [00:21<00:30, 35.90it/s]"
          ],
          "name": "stdout"
        },
        {
          "output_type": "stream",
          "text": [
            "Epoch 0 mean train loss = 0.0244: 100%|██████████| 1875/1875 [00:52<00:00, 35.85it/s]\n"
          ],
          "name": "stdout"
        },
        {
          "output_type": "stream",
          "text": [
            "Epoch 0 accy 95.29%\n",
            "Epoch 1 mean train loss = 0.0695:  42%|████▏     | 785/1875 [00:21<00:29, 36.35it/s]"
          ],
          "name": "stdout"
        },
        {
          "output_type": "stream",
          "text": [
            "Epoch 1 mean train loss = 0.0523: 100%|██████████| 1875/1875 [00:51<00:00, 36.27it/s]\n"
          ],
          "name": "stdout"
        },
        {
          "output_type": "stream",
          "text": [
            "Epoch 1 accy 95.73%\n",
            "Epoch 2 mean train loss = 0.0372:  42%|████▏     | 783/1875 [00:21<00:30, 35.89it/s]"
          ],
          "name": "stdout"
        },
        {
          "output_type": "stream",
          "text": [
            "Epoch 2 mean train loss = 0.0191: 100%|██████████| 1875/1875 [00:52<00:00, 35.50it/s]\n"
          ],
          "name": "stdout"
        },
        {
          "output_type": "stream",
          "text": [
            "Epoch 2 accy 97.08%\n"
          ],
          "name": "stdout"
        },
        {
          "output_type": "display_data",
          "data": {
            "image/png": "[encoded data removed]",
            "text/plain": [
              "<matplotlib.figure.Figure at 0x7f7de691c5f8>"
            ]
          },
          "metadata": {
            "tags": []
          }
        }
      ]
    }
  ]
}