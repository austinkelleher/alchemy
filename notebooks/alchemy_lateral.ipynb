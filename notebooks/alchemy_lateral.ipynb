{
  "nbformat": 4,
  "nbformat_minor": 0,
  "metadata": {
    "colab": {
      "name": "alchemy_lateral.ipynb",
      "version": "0.3.2",
      "views": {},
      "default_view": {},
      "provenance": [],
      "collapsed_sections": []
    },
    "kernelspec": {
      "name": "python3",
      "display_name": "Python 3"
    },
    "accelerator": "GPU"
  },
  "cells": [
    {
      "metadata": {
        "id": "t9Vv5NQKmmph",
        "colab_type": "code",
        "colab": {
          "autoexec": {
            "startup": false,
            "wait_interval": 0
          },
          "base_uri": "https://localhost:8080/",
          "height": 34
        },
        "outputId": "c05c936d-3e62-401e-fa18-8f5fe26b8937",
        "executionInfo": {
          "status": "ok",
          "timestamp": 1524676459173,
          "user_tz": 240,
          "elapsed": 10185,
          "user": {
            "displayName": "Sam Wenke",
            "photoUrl": "//lh6.googleusercontent.com/-f8Ky_WO2HTs/AAAAAAAAAAI/AAAAAAAAAG8/Q5eXh5dH1rg/s50-c-k-no/photo.jpg",
            "userId": "108962687437084869445"
          }
        }
      },
      "cell_type": "code",
      "source": [
        "!pip install -q tqdm\n",
        "!git clone -b experimental https://git@github.com/wenkesj/alchemy.git ~/alchemy\n",
        "!(cd ~/alchemy; pip install -q .)"
      ],
      "execution_count": 1,
      "outputs": [
        {
          "output_type": "stream",
          "text": [
            "fatal: destination path '/content/alchemy' already exists and is not an empty directory.\r\n"
          ],
          "name": "stdout"
        }
      ]
    },
    {
      "metadata": {
        "id": "rSm22tk3o9JE",
        "colab_type": "code",
        "colab": {
          "autoexec": {
            "startup": false,
            "wait_interval": 0
          }
        }
      },
      "cell_type": "code",
      "source": [
        "from observations import mnist\n",
        "\n",
        "(x_train, y_train), (x_test, y_test) = mnist('data')\n",
        "train_size, test_size = len(x_train), len(x_test)"
      ],
      "execution_count": 0,
      "outputs": []
    },
    {
      "metadata": {
        "id": "T7PIjAo_rCtR",
        "colab_type": "text"
      },
      "cell_type": "markdown",
      "source": [
        "# Shared Model Body for comparison"
      ]
    },
    {
      "metadata": {
        "id": "8wjkQjJRpFbt",
        "colab_type": "code",
        "colab": {
          "autoexec": {
            "startup": false,
            "wait_interval": 0
          }
        }
      },
      "cell_type": "code",
      "source": [
        "import alchemy as ay\n",
        "import tensorflow as tf\n",
        "\n",
        "def model_fn(inputs_ph):\n",
        "  inputs = tf.reshape(inputs_ph, [tf.shape(inputs_ph)[0], 28, 28, 1])\n",
        "  y = tf.layers.conv2d(tf.cast(inputs, tf.float32) / 127, 32, (3, 3), \n",
        "                       activation=tf.nn.relu)\n",
        "  y = tf.layers.conv2d(y, 64, (3, 3), activation=tf.nn.relu)\n",
        "  y = tf.contrib.layers.flatten(y)\n",
        "  return y"
      ],
      "execution_count": 0,
      "outputs": []
    },
    {
      "metadata": {
        "id": "rhzE4DS_nx-s",
        "colab_type": "code",
        "colab": {
          "autoexec": {
            "startup": false,
            "wait_interval": 0
          }
        }
      },
      "cell_type": "code",
      "source": [
        "import numpy as np\n",
        "import sys\n",
        "from tqdm import trange\n",
        "\n",
        "epochs = 3\n",
        "batch_size = 64\n",
        "learning_rate = 6.25e-4\n",
        "\n",
        "\n",
        "def train_fn(model):\n",
        "  tf.reset_default_graph()\n",
        "  tf.set_random_seed(42)\n",
        "  np.random.seed(42)\n",
        "\n",
        "  tf.reset_default_graph()\n",
        "  \n",
        "  inputs_ph = tf.placeholder(tf.uint8, (None, 784), name='inputs')\n",
        "  labels_ph = tf.placeholder(tf.int32, (None,), name='labels')\n",
        "\n",
        "  logits = model_fn(inputs_ph)\n",
        "  logits = model(logits)\n",
        "\n",
        "  pred_op = tf.argmax(logits, axis=-1, output_type=tf.int32)\n",
        "  accy_op = tf.reduce_mean(\n",
        "      tf.cast(tf.equal(pred_op, labels_ph), tf.float32), axis=-1)\n",
        "  loss_op = tf.reduce_mean(\n",
        "      tf.nn.sparse_softmax_cross_entropy_with_logits(\n",
        "          labels=labels_ph, logits=logits, name='loss'),\n",
        "      axis=-1)\n",
        "  train_op = tf.train.AdamOptimizer(\n",
        "      learning_rate=learning_rate).minimize(loss_op)\n",
        "\n",
        "  with tf.Session() as sess:\n",
        "    sess.run(tf.global_variables_initializer())\n",
        "\n",
        "    accuracies = []\n",
        "    for epoch in range(epochs):\n",
        "      train_loss = 0.\n",
        "      train_set = ay.utils.generate_dataset((x_train, y_train), batch_size)\n",
        "      train_msg = 'Epoch {} mean train loss = {:.4f}'\n",
        "      train_range = trange(\n",
        "          train_size // batch_size, \n",
        "          desc=train_msg.format(epoch, train_loss),\n",
        "          file=sys.stdout)\n",
        "      for _ in train_range:\n",
        "        x, y = next(train_set)\n",
        "        train_loss, _ = sess.run((loss_op, train_op), feed_dict={\n",
        "            inputs_ph: x,\n",
        "            labels_ph: y, \n",
        "        })\n",
        "        train_range.set_description(train_msg.format(epoch, train_loss))\n",
        "\n",
        "      test_accy = 0.\n",
        "      test_set = ay.utils.generate_dataset((x_test, y_test), batch_size)\n",
        "      for test_steps_taken in range(test_size // batch_size):\n",
        "        x, y = next(test_set)\n",
        "        test_accy_ = sess.run(accy_op, feed_dict={\n",
        "            inputs_ph: x,\n",
        "            labels_ph: y,\n",
        "        })\n",
        "        test_accy += test_accy_\n",
        "      accy = 100. * (test_accy / (test_steps_taken + 1))\n",
        "      accuracies.append(accy)\n",
        "      print('Epoch {} accy {:.2f}%'.format(epoch, accy))\n",
        "    return accuracies"
      ],
      "execution_count": 0,
      "outputs": []
    },
    {
      "metadata": {
        "id": "naupM98XtYPk",
        "colab_type": "text"
      },
      "cell_type": "markdown",
      "source": [
        "# Compare the 2 implementations (Dense vs. Dense + Lateral)"
      ]
    },
    {
      "metadata": {
        "id": "HaHc94kSqlq_",
        "colab_type": "code",
        "colab": {
          "autoexec": {
            "startup": false,
            "wait_interval": 0
          }
        }
      },
      "cell_type": "code",
      "source": [
        "def dense(logits):\n",
        "  logits = tf.layers.dense(logits, units=128, activation=tf.nn.relu)\n",
        "  return tf.layers.dense(logits, units=10)\n",
        "\n",
        "def lateral_with_self_connections(logits):\n",
        "  logits = tf.layers.dense(logits, units=128, activation=None)\n",
        "  logits = ay.contrib.layers.lateral(\n",
        "      logits, allow_self_connections=True, activation=tf.nn.relu)\n",
        "  logits = tf.layers.dense(logits, units=10)\n",
        "  return ay.contrib.layers.lateral(logits, allow_self_connections=True)\n",
        "\n",
        "def lateral_with_self_connections_fixed(logits):\n",
        "  logits = tf.layers.dense(logits, units=128, activation=None)\n",
        "  logits = ay.contrib.layers.lateral(\n",
        "      logits, allow_self_connections=True, \n",
        "      activation=tf.nn.relu, trainable=False)\n",
        "  logits = tf.layers.dense(logits, units=10)\n",
        "  return ay.contrib.layers.lateral(\n",
        "      logits, allow_self_connections=True, trainable=False)\n",
        "\n",
        "def lateral_without_self_connections(logits):\n",
        "  logits = tf.layers.dense(logits, units=128, activation=None)\n",
        "  logits = ay.contrib.layers.lateral(logits, activation=tf.nn.relu)\n",
        "  logits = tf.layers.dense(logits, units=10)\n",
        "  return ay.contrib.layers.lateral(logits)\n",
        "\n",
        "def lateral_without_self_connections_fixed(logits):\n",
        "  logits = tf.layers.dense(logits, units=128, activation=None)\n",
        "  logits = ay.contrib.layers.lateral(\n",
        "      logits, activation=tf.nn.relu, trainable=False)\n",
        "  logits = tf.layers.dense(logits, units=10)\n",
        "  return ay.contrib.layers.lateral(\n",
        "      logits, trainable=False)\n",
        "\n",
        "models = [\n",
        "    dense, \n",
        "    lateral_with_self_connections, \n",
        "    lateral_with_self_connections_fixed,\n",
        "    lateral_without_self_connections,\n",
        "    lateral_without_self_connections_fixed]"
      ],
      "execution_count": 0,
      "outputs": []
    },
    {
      "metadata": {
        "id": "_vsS3BzIpOCR",
        "colab_type": "code",
        "colab": {
          "autoexec": {
            "startup": false,
            "wait_interval": 0
          },
          "base_uri": "https://localhost:8080/",
          "height": 895
        },
        "outputId": "b856c01a-7402-4250-dead-1812d1fbdceb",
        "executionInfo": {
          "status": "ok",
          "timestamp": 1524676813858,
          "user_tz": 240,
          "elapsed": 338786,
          "user": {
            "displayName": "Sam Wenke",
            "photoUrl": "//lh6.googleusercontent.com/-f8Ky_WO2HTs/AAAAAAAAAAI/AAAAAAAAAG8/Q5eXh5dH1rg/s50-c-k-no/photo.jpg",
            "userId": "108962687437084869445"
          }
        }
      },
      "cell_type": "code",
      "source": [
        "import matplotlib.pyplot as plt\n",
        "\n",
        "fig, ax = plt.subplots()\n",
        "ax.set_ylabel('% Accuracy')\n",
        "ax.set_xlabel('Epoch')\n",
        "ax.set_ylim([0, 100.])\n",
        "for name, accuracies in [(model.__name__, train_fn(model)) \n",
        "                         for model in models]:\n",
        "  ax.plot(accuracies, marker='o', label=name)\n",
        "_ = ax.legend(loc='lower right', shadow=True)"
      ],
      "execution_count": 6,
      "outputs": [
        {
          "output_type": "stream",
          "text": [
            "Epoch 0 mean train loss = 0.3658: 100%|██████████| 937/937 [00:21<00:00, 42.69it/s]\n",
            "Epoch 0 accy 98.29%\n",
            "Epoch 1 mean train loss = 0.0077:   3%|▎         | 30/937 [00:00<00:20, 43.89it/s]"
          ],
          "name": "stdout"
        },
        {
          "output_type": "stream",
          "text": [
            "Epoch 1 mean train loss = 0.3117: 100%|██████████| 937/937 [00:20<00:00, 46.34it/s]\n",
            "Epoch 1 accy 98.61%\n",
            "Epoch 2 mean train loss = 0.0095:   5%|▍         | 44/937 [00:00<00:19, 46.17it/s]"
          ],
          "name": "stdout"
        },
        {
          "output_type": "stream",
          "text": [
            "Epoch 2 mean train loss = 0.2105: 100%|██████████| 937/937 [00:20<00:00, 46.07it/s]\n",
            "Epoch 2 accy 98.72%\n",
            "Epoch 0 mean train loss = 0.3934:   5%|▍         | 46/937 [00:01<00:24, 36.72it/s]"
          ],
          "name": "stdout"
        },
        {
          "output_type": "stream",
          "text": [
            "Epoch 0 mean train loss = 0.4670: 100%|██████████| 937/937 [00:21<00:00, 44.47it/s]\n",
            "Epoch 0 accy 98.21%\n",
            "Epoch 1 mean train loss = 0.0211:   5%|▌         | 50/937 [00:01<00:20, 43.11it/s]"
          ],
          "name": "stdout"
        },
        {
          "output_type": "stream",
          "text": [
            "Epoch 1 mean train loss = 0.3900: 100%|██████████| 937/937 [00:21<00:00, 44.56it/s]\n",
            "Epoch 1 accy 97.48%\n",
            "Epoch 2 mean train loss = 0.0124:   5%|▌         | 50/937 [00:01<00:21, 40.90it/s]"
          ],
          "name": "stdout"
        },
        {
          "output_type": "stream",
          "text": [
            "Epoch 2 mean train loss = 0.2552: 100%|██████████| 937/937 [00:20<00:00, 44.67it/s]\n",
            "Epoch 2 accy 98.29%\n",
            "Epoch 0 mean train loss = 0.4591:   5%|▌         | 51/937 [00:01<00:21, 40.82it/s]"
          ],
          "name": "stdout"
        },
        {
          "output_type": "stream",
          "text": [
            "Epoch 0 mean train loss = 0.2787: 100%|██████████| 937/937 [00:21<00:00, 44.42it/s]\n",
            "Epoch 0 accy 97.94%\n",
            "Epoch 1 mean train loss = 0.0772:   5%|▌         | 50/937 [00:01<00:20, 42.91it/s]"
          ],
          "name": "stdout"
        },
        {
          "output_type": "stream",
          "text": [
            "Epoch 1 mean train loss = 0.2943: 100%|██████████| 937/937 [00:20<00:00, 46.31it/s]\n",
            "Epoch 1 accy 98.04%\n",
            "Epoch 2 mean train loss = 0.0448:   5%|▌         | 51/937 [00:01<00:21, 41.54it/s]"
          ],
          "name": "stdout"
        },
        {
          "output_type": "stream",
          "text": [
            "Epoch 2 mean train loss = 0.2305: 100%|██████████| 937/937 [00:20<00:00, 45.56it/s]\n",
            "Epoch 2 accy 98.58%\n",
            "Epoch 0 mean train loss = 0.3158:   5%|▌         | 50/937 [00:01<00:25, 35.45it/s]"
          ],
          "name": "stdout"
        },
        {
          "output_type": "stream",
          "text": [
            "Epoch 0 mean train loss = 0.3061: 100%|██████████| 937/937 [00:22<00:00, 42.47it/s]\n",
            "Epoch 0 accy 98.51%\n",
            "Epoch 1 mean train loss = 0.0490:   5%|▌         | 51/937 [00:01<00:20, 42.52it/s]"
          ],
          "name": "stdout"
        },
        {
          "output_type": "stream",
          "text": [
            "Epoch 1 mean train loss = 0.2178: 100%|██████████| 937/937 [00:21<00:00, 43.88it/s]\n",
            "Epoch 1 accy 98.83%\n",
            "Epoch 2 mean train loss = 0.0055:   5%|▌         | 51/937 [00:01<00:21, 41.35it/s]"
          ],
          "name": "stdout"
        },
        {
          "output_type": "stream",
          "text": [
            "Epoch 2 mean train loss = 0.2017: 100%|██████████| 937/937 [00:21<00:00, 44.15it/s]\n",
            "Epoch 2 accy 98.43%\n",
            "Epoch 0 mean train loss = 0.2585:   6%|▌         | 52/937 [00:01<00:21, 41.12it/s]"
          ],
          "name": "stdout"
        },
        {
          "output_type": "stream",
          "text": [
            "Epoch 0 mean train loss = 0.4705: 100%|██████████| 937/937 [00:20<00:00, 44.79it/s]\n",
            "Epoch 0 accy 97.91%\n",
            "Epoch 1 mean train loss = 0.0472:   5%|▌         | 51/937 [00:01<00:19, 44.43it/s]"
          ],
          "name": "stdout"
        },
        {
          "output_type": "stream",
          "text": [
            "Epoch 1 mean train loss = 0.4078: 100%|██████████| 937/937 [00:20<00:00, 45.89it/s]\n",
            "Epoch 1 accy 97.81%\n",
            "Epoch 2 mean train loss = 0.0415:   5%|▌         | 51/937 [00:01<00:21, 41.97it/s]"
          ],
          "name": "stdout"
        },
        {
          "output_type": "stream",
          "text": [
            "Epoch 2 mean train loss = 0.1254: 100%|██████████| 937/937 [00:19<00:00, 47.32it/s]\n",
            "Epoch 2 accy 98.67%\n"
          ],
          "name": "stdout"
        },
        {
          "output_type": "display_data",
          "data": {
            "image/png": "[encoded data removed]",
            "text/plain": [
              "<matplotlib.figure.Figure at 0x7fb58eae05c0>"
            ]
          },
          "metadata": {
            "tags": []
          }
        }
      ]
    }
  ]
}