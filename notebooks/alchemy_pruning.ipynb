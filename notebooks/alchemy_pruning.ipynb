{
  "nbformat": 4,
  "nbformat_minor": 0,
  "metadata": {
    "colab": {
      "name": "alchemy_pruning.ipynb",
      "version": "0.3.2",
      "views": {},
      "default_view": {},
      "provenance": [],
      "collapsed_sections": []
    },
    "kernelspec": {
      "name": "python3",
      "display_name": "Python 3"
    },
    "accelerator": "GPU"
  },
  "cells": [
    {
      "metadata": {
        "id": "hEJ6J1QBQsXU",
        "colab_type": "text"
      },
      "cell_type": "markdown",
      "source": [
        "# Bayes-by-Backprop and Pruning with Alchemy, TensorFlow (and Sonnet)"
      ]
    },
    {
      "metadata": {
        "id": "sWu1AO3RGbEc",
        "colab_type": "code",
        "colab": {
          "autoexec": {
            "startup": false,
            "wait_interval": 0
          },
          "base_uri": "https://localhost:8080/",
          "height": 119
        },
        "outputId": "986dca9b-58dc-4f12-bea7-d8269f93deb3",
        "executionInfo": {
          "status": "ok",
          "timestamp": 1524669768456,
          "user_tz": 240,
          "elapsed": 10753,
          "user": {
            "displayName": "Sam Wenke",
            "photoUrl": "//lh6.googleusercontent.com/-f8Ky_WO2HTs/AAAAAAAAAAI/AAAAAAAAAG8/Q5eXh5dH1rg/s50-c-k-no/photo.jpg",
            "userId": "108962687437084869445"
          }
        }
      },
      "cell_type": "code",
      "source": [
        "!git clone -b experimental https://git@github.com/wenkesj/alchemy.git ~/alchemy\n",
        "!(cd ~/alchemy; pip install -q .)\n",
        "!pip install -q dm-sonnet observations tqdm"
      ],
      "execution_count": 1,
      "outputs": [
        {
          "output_type": "stream",
          "text": [
            "Cloning into '/content/alchemy'...\n",
            "remote: Counting objects: 274, done.\u001b[K\n",
            "remote: Compressing objects: 100% (183/183), done.\u001b[K\n",
            "remote: Total 274 (delta 143), reused 219 (delta 88), pack-reused 0\u001b[K\n",
            "Receiving objects: 100% (274/274), 62.63 KiB | 8.95 MiB/s, done.\n",
            "Resolving deltas: 100% (143/143), done.\n"
          ],
          "name": "stdout"
        }
      ]
    },
    {
      "metadata": {
        "id": "6g0VEgK2B589",
        "colab_type": "text"
      },
      "cell_type": "markdown",
      "source": [
        "Bayes by Backprop is an algorithm for learning a distribution\n",
        "over neural network weights."
      ]
    },
    {
      "metadata": {
        "id": "zLcisYumA8z7",
        "colab_type": "code",
        "colab": {
          "autoexec": {
            "startup": false,
            "wait_interval": 0
          }
        }
      },
      "cell_type": "code",
      "source": [
        "import alchemy as ay\n",
        "import tensorflow as tf; tf.set_random_seed(1)\n",
        "import sonnet.python.custom_getters.bayes_by_backprop as bbb\n",
        "\n",
        "prior_builder, posterior_builder = ay.utils.custom_scale_mixture_prior_factory(\n",
        "    pi=.01, sigma1=.25, sigma2=.01)\n",
        "\n",
        "sampling_mode_ph = tf.placeholder(tf.string, [])\n",
        "\n",
        "get_bbb_variable_fn = bbb.bayes_by_backprop_getter(\n",
        "    posterior_builder=posterior_builder,\n",
        "    prior_builder=prior_builder,\n",
        "    kl_builder=bbb.stochastic_kl_builder,\n",
        "    sampling_mode_tensor=sampling_mode_ph)"
      ],
      "execution_count": 0,
      "outputs": []
    },
    {
      "metadata": {
        "id": "xavf0q11D0KW",
        "colab_type": "text"
      },
      "cell_type": "markdown",
      "source": [
        "# Defining the Problem\n",
        "This uses the **MNIST** dataset."
      ]
    },
    {
      "metadata": {
        "id": "WxNwXBHjDytS",
        "colab_type": "code",
        "colab": {
          "autoexec": {
            "startup": false,
            "wait_interval": 0
          }
        }
      },
      "cell_type": "code",
      "source": [
        "from observations import mnist\n",
        "\n",
        "(x_train, y_train), (x_test, y_test) = mnist('data')\n",
        "train_size, test_size = len(x_train), len(x_test)"
      ],
      "execution_count": 0,
      "outputs": []
    },
    {
      "metadata": {
        "id": "9YZqGM5YUZLe",
        "colab_type": "text"
      },
      "cell_type": "markdown",
      "source": [
        "# Defining the Model"
      ]
    },
    {
      "metadata": {
        "id": "pKdxttcjGqiu",
        "colab_type": "code",
        "colab": {
          "autoexec": {
            "startup": false,
            "wait_interval": 0
          }
        }
      },
      "cell_type": "code",
      "source": [
        "inputs_ph = tf.placeholder(tf.float32, [None, 784])\n",
        "labels_ph = tf.placeholder(tf.int32, [None])\n",
        "\n",
        "def model_fn(inputs_ph):\n",
        "  inputs = tf.reshape(inputs_ph, [tf.shape(inputs_ph)[0], 28, 28, 1])\n",
        "  y = tf.layers.conv2d(tf.cast(inputs, tf.float32) / 127, 32, (3, 3), \n",
        "                       activation=tf.nn.relu)\n",
        "  y = tf.layers.conv2d(y, 64, (3, 3), activation=tf.nn.relu)\n",
        "  y = tf.contrib.layers.flatten(y)\n",
        "  y = tf.layers.dense(\n",
        "      y, units=128,\n",
        "      activation=tf.nn.relu)\n",
        "  y = tf.layers.dense(\n",
        "      y, units=10)\n",
        "  return y"
      ],
      "execution_count": 0,
      "outputs": []
    },
    {
      "metadata": {
        "id": "WcoUjGHXCGhh",
        "colab_type": "text"
      },
      "cell_type": "markdown",
      "source": [
        "Create the training network using the getter"
      ]
    },
    {
      "metadata": {
        "id": "E9fr93XjCAp0",
        "colab_type": "code",
        "colab": {
          "autoexec": {
            "startup": false,
            "wait_interval": 0
          }
        }
      },
      "cell_type": "code",
      "source": [
        "bbb_scope = 'bbb'\n",
        "with tf.variable_scope(bbb_scope, custom_getter=get_bbb_variable_fn) as vs:\n",
        "  bbb_logits = model_fn(inputs_ph)"
      ],
      "execution_count": 0,
      "outputs": []
    },
    {
      "metadata": {
        "id": "MiWEg3emCKFN",
        "colab_type": "text"
      },
      "cell_type": "markdown",
      "source": [
        "Create the pruning op"
      ]
    },
    {
      "metadata": {
        "id": "r_jYhsr_AwVl",
        "colab_type": "code",
        "colab": {
          "autoexec": {
            "startup": false,
            "wait_interval": 0
          }
        }
      },
      "cell_type": "code",
      "source": [
        "metadata = bbb.get_variable_metadata()\n",
        "total_variables = sum([ay.utils.product(meta.raw_variable_shape) \n",
        "                       for meta in metadata])\n",
        "percentage_ph = tf.placeholder(tf.float32, [])\n",
        "pruned_vars_op = ay.contrib.train.prune_by_bbb(metadata, percentage_ph)"
      ],
      "execution_count": 0,
      "outputs": []
    },
    {
      "metadata": {
        "id": "oZa8ASRCDO6J",
        "colab_type": "text"
      },
      "cell_type": "markdown",
      "source": [
        "Minimize the total loss"
      ]
    },
    {
      "metadata": {
        "id": "nA48fu7pDM0Q",
        "colab_type": "code",
        "colab": {
          "autoexec": {
            "startup": false,
            "wait_interval": 0
          }
        }
      },
      "cell_type": "code",
      "source": [
        "with tf.variable_scope(bbb_scope):\n",
        "  loss_op = tf.reduce_mean(\n",
        "      tf.nn.sparse_softmax_cross_entropy_with_logits(\n",
        "          labels=labels_ph, logits=bbb_logits, name='loss'),\n",
        "      axis=-1)\n",
        "\n",
        "  loss_op += bbb.get_total_kl_cost() / train_size\n",
        "  train_op = tf.train.AdamOptimizer(1e-3).minimize(loss_op)"
      ],
      "execution_count": 0,
      "outputs": []
    },
    {
      "metadata": {
        "id": "ZCdcFpHIEqbA",
        "colab_type": "text"
      },
      "cell_type": "markdown",
      "source": [
        "`bbb` validation criterion"
      ]
    },
    {
      "metadata": {
        "id": "sUS1aKNSEpIV",
        "colab_type": "code",
        "colab": {
          "autoexec": {
            "startup": false,
            "wait_interval": 0
          }
        }
      },
      "cell_type": "code",
      "source": [
        "bbb_pred_op = tf.cast(tf.argmax(bbb_logits, axis=-1), tf.int32)\n",
        "bbb_accy_op = tf.reduce_mean(\n",
        "    tf.cast(tf.equal(bbb_pred_op, labels_ph), tf.float32), axis=-1)"
      ],
      "execution_count": 0,
      "outputs": []
    },
    {
      "metadata": {
        "id": "as67gtksCOGS",
        "colab_type": "text"
      },
      "cell_type": "markdown",
      "source": [
        "Create the pruned network template"
      ]
    },
    {
      "metadata": {
        "id": "rjYL40H8CSvn",
        "colab_type": "code",
        "colab": {
          "autoexec": {
            "startup": false,
            "wait_interval": 0
          }
        }
      },
      "cell_type": "code",
      "source": [
        "template_scope = 'template'\n",
        "with tf.variable_scope(template_scope) as vs:\n",
        "  template_logits = model_fn(inputs_ph)"
      ],
      "execution_count": 0,
      "outputs": []
    },
    {
      "metadata": {
        "id": "XFiaF_eGFYN1",
        "colab_type": "text"
      },
      "cell_type": "markdown",
      "source": [
        "`template` validation criterion"
      ]
    },
    {
      "metadata": {
        "id": "aG0tkC8fE9xn",
        "colab_type": "code",
        "colab": {
          "autoexec": {
            "startup": false,
            "wait_interval": 0
          }
        }
      },
      "cell_type": "code",
      "source": [
        "template_pred_op = tf.cast(tf.argmax(template_logits, axis=-1), tf.int32)\n",
        "template_accy_op = tf.reduce_mean(\n",
        "    tf.cast(tf.equal(template_pred_op, labels_ph), tf.float32), axis=-1)"
      ],
      "execution_count": 0,
      "outputs": []
    },
    {
      "metadata": {
        "id": "UhE9zhg1Ccon",
        "colab_type": "text"
      },
      "cell_type": "markdown",
      "source": [
        "Retrieve the variables so we can prune them in-place. In other words, find the variables from `'bbb'` that correspond to `'template'`"
      ]
    },
    {
      "metadata": {
        "id": "_CWoRO_RCh0a",
        "colab_type": "code",
        "colab": {
          "autoexec": {
            "startup": false,
            "wait_interval": 0
          }
        }
      },
      "cell_type": "code",
      "source": [
        "template_variables = tf.trainable_variables(scope=template_scope)\n",
        "assign_pruned_vars_op = ay.contrib.train.assign_pruned_by_bbb_to_template(\n",
        "    metadata, pruned_vars_op, template_variables,\n",
        "    from_scope=bbb_scope, to_scope=template_scope)"
      ],
      "execution_count": 0,
      "outputs": []
    },
    {
      "metadata": {
        "id": "ha4OEtY7Mvlw",
        "colab_type": "text"
      },
      "cell_type": "markdown",
      "source": [
        "Another (viable) inspiration of using BBB is the ability to use a pre-trained model and then prune it, getting similar results. \n",
        "\n",
        "This can be accomplished with very little work by using the fact that the pruned model's weights are sampled from the **mean** of the distributions. With this assumption, you can take the pre-trained weights and set those as the **mean**s of the BBB model and (only or maybe not, need to write a paper on the results **¯\\_(ツ)_/¯**) train the **variance** to get the **SNR**."
      ]
    },
    {
      "metadata": {
        "id": "GpVhhyX0MutN",
        "colab_type": "code",
        "colab": {
          "autoexec": {
            "startup": false,
            "wait_interval": 0
          }
        }
      },
      "cell_type": "code",
      "source": [
        "# using a pre-trained model, and comment below this\n",
        "# assign_template_vars_op = ay.contrib.train.assign_template_to_prune_by_bbb(\n",
        "#     template_variables, metadata,\n",
        "#     from_scope=template_scope, to_scope=bbb_scope)\n",
        "\n",
        "with tf.variable_scope(template_scope):\n",
        "  template_loss_op = tf.reduce_mean(\n",
        "      tf.nn.sparse_softmax_cross_entropy_with_logits(\n",
        "          labels=labels_ph, logits=template_logits, name='loss'),\n",
        "      axis=-1)\n",
        "  # using a pre-trained model, and comment below this\n",
        "  # template_train_op = tf.train.AdamOptimizer(1e-3).minimize(template_loss_op)"
      ],
      "execution_count": 0,
      "outputs": []
    },
    {
      "metadata": {
        "id": "6ouBkGplJolU",
        "colab_type": "text"
      },
      "cell_type": "markdown",
      "source": [
        "# Baseline Training and Validation"
      ]
    },
    {
      "metadata": {
        "id": "77WVlIukMx5P",
        "colab_type": "code",
        "colab": {
          "autoexec": {
            "startup": false,
            "wait_interval": 0
          },
          "base_uri": "https://localhost:8080/",
          "height": 51
        },
        "outputId": "be83c2bf-f66f-4676-c541-966d4495545d",
        "executionInfo": {
          "status": "ok",
          "timestamp": 1524669850225,
          "user_tz": 240,
          "elapsed": 60430,
          "user": {
            "displayName": "Sam Wenke",
            "photoUrl": "//lh6.googleusercontent.com/-f8Ky_WO2HTs/AAAAAAAAAAI/AAAAAAAAAG8/Q5eXh5dH1rg/s50-c-k-no/photo.jpg",
            "userId": "108962687437084869445"
          }
        }
      },
      "cell_type": "code",
      "source": [
        "import sys\n",
        "from tqdm import trange\n",
        "\n",
        "batch_size = 64\n",
        "num_epochs = 1\n",
        "\n",
        "sess = tf.InteractiveSession()\n",
        "sess.run(tf.global_variables_initializer())\n",
        "for epoch in range(num_epochs):\n",
        "  train_loss = 0.\n",
        "  train_set = ay.utils.generate_dataset((x_train, y_train), batch_size)\n",
        "  train_msg = 'Epoch {} mean train loss = {:.4f}'\n",
        "  train_range = trange(\n",
        "      train_size // batch_size, \n",
        "      desc=train_msg.format(epoch, train_loss),\n",
        "      file=sys.stdout)\n",
        "  for _ in train_range:\n",
        "    x, y = next(train_set)\n",
        "    # using a pre-trained model, and comment below this\n",
        "    # train_loss, _ = sess.run((template_loss_op, template_train_op), feed_dict={\n",
        "    #     inputs_ph: x,\n",
        "    #     labels_ph: y,\n",
        "    # })\n",
        "    train_loss, _ = sess.run((loss_op, train_op), feed_dict={\n",
        "        inputs_ph: x,\n",
        "        labels_ph: y, \n",
        "        sampling_mode_ph: bbb.EstimatorModes.sample,\n",
        "    })\n",
        "    train_range.set_description(train_msg.format(epoch, train_loss))\n",
        "\n",
        "  test_accy = 0.\n",
        "  test_set = ay.utils.generate_dataset((x_test, y_test), batch_size)\n",
        "  for test_steps_taken in range(test_size // batch_size):\n",
        "    x, y = next(test_set)\n",
        "    # using a pre-trained model, and comment below this\n",
        "    # test_accy += sess.run(template_accy_op, feed_dict={\n",
        "    #     inputs_ph: x,\n",
        "    #     labels_ph: y,\n",
        "    # })\n",
        "    test_accy += sess.run(bbb_accy_op, feed_dict={\n",
        "        inputs_ph: x,\n",
        "        labels_ph: y,\n",
        "        sampling_mode_ph: bbb.EstimatorModes.mean,\n",
        "    })\n",
        "  print('Accy {:.2f}%'.format(100. * (test_accy / (test_steps_taken + 1))))\n",
        "\n",
        "# using a pre-trained model, uncomment this\n",
        "# sess.run(assign_template_vars_op)"
      ],
      "execution_count": 13,
      "outputs": [
        {
          "output_type": "stream",
          "text": [
            "Epoch 0 mean train loss = 19.7494: 100%|██████████| 937/937 [00:57<00:00, 16.34it/s]\n",
            "Accy 89.22%\n"
          ],
          "name": "stdout"
        }
      ]
    },
    {
      "metadata": {
        "id": "UN231BoeJhVZ",
        "colab_type": "text"
      },
      "cell_type": "markdown",
      "source": [
        "# Prune and validate"
      ]
    },
    {
      "metadata": {
        "id": "hAcxl11PFnC1",
        "colab_type": "code",
        "colab": {
          "autoexec": {
            "startup": false,
            "wait_interval": 0
          },
          "base_uri": "https://localhost:8080/",
          "height": 1513
        },
        "outputId": "2f1655d1-560f-44a8-98ee-1c0b47d85f7a",
        "executionInfo": {
          "status": "ok",
          "timestamp": 1524669862144,
          "user_tz": 240,
          "elapsed": 11870,
          "user": {
            "displayName": "Sam Wenke",
            "photoUrl": "//lh6.googleusercontent.com/-f8Ky_WO2HTs/AAAAAAAAAAI/AAAAAAAAAG8/Q5eXh5dH1rg/s50-c-k-no/photo.jpg",
            "userId": "108962687437084869445"
          }
        }
      },
      "cell_type": "code",
      "source": [
        "import numpy as np; np.random.seed(1)\n",
        "\n",
        "pruning_percentages = [\n",
        "    0., .75, .85, .9, .95, .975, .99, 1.]\n",
        "pruning_accys = []\n",
        "\n",
        "# using a pre-trained model, uncomment this\n",
        "# train_loss = 0.\n",
        "# train_set = ay.utils.generate_dataset((x_train, y_train), batch_size)\n",
        "# train_msg = 'Epoch {} mean train loss = {:.4f}'\n",
        "# train_range = trange(\n",
        "#     train_size // batch_size, \n",
        "#     desc=train_msg.format(epoch, train_loss),\n",
        "#     file=sys.stdout)\n",
        "# for _ in train_range:\n",
        "#   x, y = next(train_set)\n",
        "#   train_loss, _ = sess.run((loss_op, train_op), feed_dict={\n",
        "#       inputs_ph: x,\n",
        "#       labels_ph: y, \n",
        "#       sampling_mode_ph: bbb.EstimatorModes.sample,\n",
        "#   })\n",
        "#   train_range.set_description(train_msg.format(epoch, train_loss))\n",
        "\n",
        "for percentage in pruning_percentages:\n",
        "  sess.run(\n",
        "      assign_pruned_vars_op, feed_dict={\n",
        "          percentage_ph: percentage,\n",
        "          sampling_mode_ph: bbb.EstimatorModes.mean,\n",
        "      })\n",
        "  test_accy = 0.\n",
        "  test_set = ay.utils.generate_dataset((x_test, y_test), batch_size)\n",
        "  for test_steps_taken in range(test_size // batch_size):\n",
        "    x, y = next(test_set)\n",
        "    test_accy += sess.run(template_accy_op, feed_dict={\n",
        "        inputs_ph: x,\n",
        "        labels_ph: y,\n",
        "    })\n",
        "  \n",
        "  print()\n",
        "  sparse_variables = sess.run(template_variables)\n",
        "  for sparse, tfsparse in zip(sparse_variables, template_variables):\n",
        "    nnz = np.count_nonzero(sparse)\n",
        "    n = ay.utils.product(sparse.shape)\n",
        "    print(\"{}: total nonzero {:d}/{:d} = {:.2f}%\".format(\n",
        "        tfsparse.name, int(nnz), int(n), nnz / n * 100.))\n",
        "\n",
        "  pruning_accy = 100. * (test_accy / (test_steps_taken + 1))\n",
        "  pruning_accys.append(pruning_accy)\n",
        "  print('Epoch {} accy of pruning {:.2f}% = {:.2f}%'.format(\n",
        "      epoch, 100. * percentage, pruning_accy))\n",
        "  print()"
      ],
      "execution_count": 14,
      "outputs": [
        {
          "output_type": "stream",
          "text": [
            "\n",
            "template/conv2d/kernel:0: total nonzero 288/288 = 100.00%\n",
            "template/conv2d/bias:0: total nonzero 32/32 = 100.00%\n",
            "template/conv2d_1/kernel:0: total nonzero 18432/18432 = 100.00%\n",
            "template/conv2d_1/bias:0: total nonzero 64/64 = 100.00%\n",
            "template/dense/kernel:0: total nonzero 4718592/4718592 = 100.00%\n",
            "template/dense/bias:0: total nonzero 128/128 = 100.00%\n",
            "template/dense_1/kernel:0: total nonzero 1280/1280 = 100.00%\n",
            "template/dense_1/bias:0: total nonzero 10/10 = 100.00%\n",
            "Epoch 0 accy of pruning 0.00% = 89.22%\n",
            "\n",
            "\n",
            "template/conv2d/kernel:0: total nonzero 284/288 = 98.61%\n",
            "template/conv2d/bias:0: total nonzero 30/32 = 93.75%\n",
            "template/conv2d_1/kernel:0: total nonzero 17794/18432 = 96.54%\n",
            "template/conv2d_1/bias:0: total nonzero 14/64 = 21.88%\n",
            "template/dense/kernel:0: total nonzero 1165290/4718592 = 24.70%\n",
            "template/dense/bias:0: total nonzero 29/128 = 22.66%\n",
            "template/dense_1/kernel:0: total nonzero 1261/1280 = 98.52%\n",
            "template/dense_1/bias:0: total nonzero 5/10 = 50.00%\n",
            "Epoch 0 accy of pruning 75.00% = 89.47%\n",
            "\n",
            "\n",
            "template/conv2d/kernel:0: total nonzero 284/288 = 98.61%\n",
            "template/conv2d/bias:0: total nonzero 30/32 = 93.75%\n",
            "template/conv2d_1/kernel:0: total nonzero 17639/18432 = 95.70%\n",
            "template/conv2d_1/bias:0: total nonzero 7/64 = 10.94%\n",
            "template/dense/kernel:0: total nonzero 691591/4718592 = 14.66%\n",
            "template/dense/bias:0: total nonzero 15/128 = 11.72%\n",
            "template/dense_1/kernel:0: total nonzero 1256/1280 = 98.12%\n",
            "template/dense_1/bias:0: total nonzero 2/10 = 20.00%\n",
            "Epoch 0 accy of pruning 85.00% = 89.43%\n",
            "\n",
            "\n",
            "template/conv2d/kernel:0: total nonzero 284/288 = 98.61%\n",
            "template/conv2d/bias:0: total nonzero 30/32 = 93.75%\n",
            "template/conv2d_1/kernel:0: total nonzero 17500/18432 = 94.94%\n",
            "template/conv2d_1/bias:0: total nonzero 6/64 = 9.38%\n",
            "template/dense/kernel:0: total nonzero 454796/4718592 = 9.64%\n",
            "template/dense/bias:0: total nonzero 12/128 = 9.38%\n",
            "template/dense_1/kernel:0: total nonzero 1253/1280 = 97.89%\n",
            "template/dense_1/bias:0: total nonzero 2/10 = 20.00%\n",
            "Epoch 0 accy of pruning 90.00% = 89.56%\n",
            "\n",
            "\n",
            "template/conv2d/kernel:0: total nonzero 282/288 = 97.92%\n",
            "template/conv2d/bias:0: total nonzero 28/32 = 87.50%\n",
            "template/conv2d_1/kernel:0: total nonzero 17284/18432 = 93.77%\n",
            "template/conv2d_1/bias:0: total nonzero 5/64 = 7.81%\n",
            "template/dense/kernel:0: total nonzero 218087/4718592 = 4.62%\n",
            "template/dense/bias:0: total nonzero 5/128 = 3.91%\n",
            "template/dense_1/kernel:0: total nonzero 1249/1280 = 97.58%\n",
            "template/dense_1/bias:0: total nonzero 2/10 = 20.00%\n",
            "Epoch 0 accy of pruning 95.00% = 89.82%\n",
            "\n",
            "\n",
            "template/conv2d/kernel:0: total nonzero 280/288 = 97.22%\n",
            "template/conv2d/bias:0: total nonzero 28/32 = 87.50%\n",
            "template/conv2d_1/kernel:0: total nonzero 17095/18432 = 92.75%\n",
            "template/conv2d_1/bias:0: total nonzero 2/64 = 3.12%\n",
            "template/dense/kernel:0: total nonzero 99821/4718592 = 2.12%\n",
            "template/dense/bias:0: total nonzero 1/128 = 0.78%\n",
            "template/dense_1/kernel:0: total nonzero 1243/1280 = 97.11%\n",
            "template/dense_1/bias:0: total nonzero 1/10 = 10.00%\n",
            "Epoch 0 accy of pruning 97.50% = 89.72%\n",
            "\n",
            "\n",
            "template/conv2d/kernel:0: total nonzero 277/288 = 96.18%\n",
            "template/conv2d/bias:0: total nonzero 27/32 = 84.38%\n",
            "template/conv2d_1/kernel:0: total nonzero 16749/18432 = 90.87%\n",
            "template/conv2d_1/bias:0: total nonzero 0/64 = 0.00%\n",
            "template/dense/kernel:0: total nonzero 29100/4718592 = 0.62%\n",
            "template/dense/bias:0: total nonzero 0/128 = 0.00%\n",
            "template/dense_1/kernel:0: total nonzero 1234/1280 = 96.41%\n",
            "template/dense_1/bias:0: total nonzero 1/10 = 10.00%\n",
            "Epoch 0 accy of pruning 99.00% = 89.28%\n",
            "\n",
            "\n",
            "template/conv2d/kernel:0: total nonzero 0/288 = 0.00%\n",
            "template/conv2d/bias:0: total nonzero 0/32 = 0.00%\n",
            "template/conv2d_1/kernel:0: total nonzero 0/18432 = 0.00%\n",
            "template/conv2d_1/bias:0: total nonzero 0/64 = 0.00%\n",
            "template/dense/kernel:0: total nonzero 0/4718592 = 0.00%\n",
            "template/dense/bias:0: total nonzero 0/128 = 0.00%\n",
            "template/dense_1/kernel:0: total nonzero 0/1280 = 0.00%\n",
            "template/dense_1/bias:0: total nonzero 0/10 = 0.00%\n",
            "Epoch 0 accy of pruning 100.00% = 9.81%\n",
            "\n"
          ],
          "name": "stdout"
        }
      ]
    },
    {
      "metadata": {
        "id": "cZiGcINFIoEN",
        "colab_type": "text"
      },
      "cell_type": "markdown",
      "source": [
        "# Pruning visualization"
      ]
    },
    {
      "metadata": {
        "id": "jygoumjOk_sM",
        "colab_type": "code",
        "colab": {
          "autoexec": {
            "startup": false,
            "wait_interval": 0
          },
          "base_uri": "https://localhost:8080/",
          "height": 365
        },
        "outputId": "33eb86e3-d71d-4e40-f7f1-8d023948030c",
        "executionInfo": {
          "status": "ok",
          "timestamp": 1524669862723,
          "user_tz": 240,
          "elapsed": 525,
          "user": {
            "displayName": "Sam Wenke",
            "photoUrl": "//lh6.googleusercontent.com/-f8Ky_WO2HTs/AAAAAAAAAAI/AAAAAAAAAG8/Q5eXh5dH1rg/s50-c-k-no/photo.jpg",
            "userId": "108962687437084869445"
          }
        }
      },
      "cell_type": "code",
      "source": [
        "import matplotlib.pyplot as plt\n",
        "\n",
        "plt.ylabel('% Accuracy')\n",
        "plt.xlabel('% Pruned')\n",
        "plt.ylim([0, 100.])\n",
        "_ = plt.plot(\n",
        "    np.asarray(pruning_percentages[1:]) * 100., pruning_accys[1:], marker='o')\n",
        "_ = plt.axhline(y=pruning_accys[0], color='r', linestyle='-')"
      ],
      "execution_count": 15,
      "outputs": [
        {
          "output_type": "display_data",
          "data": {
            "image/png": "[encoded data removed]",
            "text/plain": [
              "<matplotlib.figure.Figure at 0x7f71a9d55a20>"
            ]
          },
          "metadata": {
            "tags": []
          }
        }
      ]
    },
    {
      "metadata": {
        "id": "0rWB6TePHhAM",
        "colab_type": "text"
      },
      "cell_type": "markdown",
      "source": [
        "# BONUS: Train after pruning"
      ]
    },
    {
      "metadata": {
        "id": "OCZudVEYvP42",
        "colab_type": "code",
        "colab": {
          "autoexec": {
            "startup": false,
            "wait_interval": 0
          }
        }
      },
      "cell_type": "code",
      "source": [
        "template_optimizer = ay.contrib.train.SparseVariableOptimizer(\n",
        "    tf.train.AdamOptimizer(1e-3))\n",
        "grads_and_vars = template_optimizer.compute_gradients(\n",
        "    template_loss_op, template_variables)\n",
        "template_train_op = template_optimizer.apply_gradients(grads_and_vars)\n",
        "template_optimizer_init_op = template_optimizer.get_initializer(\n",
        "    template_variables)"
      ],
      "execution_count": 0,
      "outputs": []
    },
    {
      "metadata": {
        "id": "XQbwnDgEvYT7",
        "colab_type": "code",
        "colab": {
          "autoexec": {
            "startup": false,
            "wait_interval": 0
          },
          "base_uri": "https://localhost:8080/",
          "height": 51
        },
        "outputId": "027e0770-86fc-4b72-e456-cee0c2cc2498",
        "executionInfo": {
          "status": "ok",
          "timestamp": 1524669884620,
          "user_tz": 240,
          "elapsed": 21102,
          "user": {
            "displayName": "Sam Wenke",
            "photoUrl": "//lh6.googleusercontent.com/-f8Ky_WO2HTs/AAAAAAAAAAI/AAAAAAAAAG8/Q5eXh5dH1rg/s50-c-k-no/photo.jpg",
            "userId": "108962687437084869445"
          }
        }
      },
      "cell_type": "code",
      "source": [
        "sess.run(\n",
        "    assign_pruned_vars_op, feed_dict={\n",
        "        percentage_ph: .99,\n",
        "        sampling_mode_ph: bbb.EstimatorModes.mean,\n",
        "    })\n",
        "\n",
        "num_re_epochs = 1\n",
        "sess.run(template_optimizer_init_op)\n",
        "for epoch in range(num_re_epochs):\n",
        "  train_loss = 0.\n",
        "  train_set = ay.utils.generate_dataset((x_train, y_train), batch_size)\n",
        "  train_msg = 'Epoch {} mean train loss = {:.4f}'\n",
        "  train_range = trange(\n",
        "      train_size // batch_size, \n",
        "      desc=train_msg.format(epoch, train_loss),\n",
        "      file=sys.stdout)\n",
        "  for _ in train_range:\n",
        "    x, y = next(train_set)\n",
        "    train_loss, _ = sess.run((template_loss_op, template_train_op), feed_dict={\n",
        "        inputs_ph: x,\n",
        "        labels_ph: y, \n",
        "    })\n",
        "    train_range.set_description(train_msg.format(epoch, train_loss))\n",
        "\n",
        "  test_accy = 0.\n",
        "  test_set = ay.utils.generate_dataset((x_test, y_test), batch_size)\n",
        "  for test_steps_taken in range(test_size // batch_size):\n",
        "    x, y = next(test_set)\n",
        "    test_accy_ = sess.run(template_accy_op, feed_dict={\n",
        "        inputs_ph: x,\n",
        "        labels_ph: y,\n",
        "    })\n",
        "    test_accy += test_accy_\n",
        "  print('Accy {:.2f}%'.format(100. * (test_accy / (test_steps_taken + 1))))"
      ],
      "execution_count": 17,
      "outputs": [
        {
          "output_type": "stream",
          "text": [
            "Epoch 0 mean train loss = 0.3868: 100%|██████████| 937/937 [00:19<00:00, 48.49it/s]\n",
            "Accy 97.89%\n"
          ],
          "name": "stdout"
        }
      ]
    },
    {
      "metadata": {
        "id": "7pwV95ukHyFR",
        "colab_type": "text"
      },
      "cell_type": "markdown",
      "source": [
        "# Benchmark the inferencing time, just for kicks"
      ]
    },
    {
      "metadata": {
        "id": "_rnakxS0C4nD",
        "colab_type": "code",
        "colab": {
          "autoexec": {
            "startup": false,
            "wait_interval": 0
          },
          "base_uri": "https://localhost:8080/",
          "height": 85
        },
        "outputId": "2b9e4873-2bac-42fd-8f5d-f11df0e1cb64",
        "executionInfo": {
          "status": "ok",
          "timestamp": 1524669901709,
          "user_tz": 240,
          "elapsed": 17059,
          "user": {
            "displayName": "Sam Wenke",
            "photoUrl": "//lh6.googleusercontent.com/-f8Ky_WO2HTs/AAAAAAAAAAI/AAAAAAAAAG8/Q5eXh5dH1rg/s50-c-k-no/photo.jpg",
            "userId": "108962687437084869445"
          }
        }
      },
      "cell_type": "code",
      "source": [
        "import time\n",
        "\n",
        "times = []\n",
        "test_accy = 0.\n",
        "test_set = ay.utils.generate_dataset((x_test, y_test), 1)\n",
        "for test_steps_taken in range(test_size // 1):\n",
        "  x, y = next(test_set)\n",
        "  start = time.time()\n",
        "  sess.run(template_logits, feed_dict={\n",
        "      inputs_ph: x,\n",
        "  })\n",
        "  end = time.time() - start\n",
        "  times.append(end)\n",
        "times = np.array(times)\n",
        "\n",
        "print('mean time = {:.5f} ms'.format(times.mean()))\n",
        "print('stdv time = {:.5f} ms'.format(times.std()))\n",
        "print('max time = {:.5f} ms'.format(times.max()))\n",
        "print('min time = {:.5f} ms'.format(times.min()))"
      ],
      "execution_count": 18,
      "outputs": [
        {
          "output_type": "stream",
          "text": [
            "mean time = 0.00165 ms\n",
            "stdv time = 0.00055 ms\n",
            "max time = 0.05416 ms\n",
            "min time = 0.00130 ms\n"
          ],
          "name": "stdout"
        }
      ]
    },
    {
      "metadata": {
        "id": "86ICq9fwNvHC",
        "colab_type": "text"
      },
      "cell_type": "markdown",
      "source": [
        "By exploiting these zero entries, you can often reduce the storage and computational requirements to O(tau*n) and O(tau*n²) respectively, where tau is the average number of entries in each column. This reduction makes the solution of large problems (n in the millions or larger) tractable on most computers."
      ]
    },
    {
      "metadata": {
        "id": "HJ3yv5veNt4l",
        "colab_type": "code",
        "colab": {
          "autoexec": {
            "startup": false,
            "wait_interval": 0
          },
          "base_uri": "https://localhost:8080/",
          "height": 153
        },
        "outputId": "f375f304-0ec9-40d5-f216-3f5c425b70a0",
        "executionInfo": {
          "status": "ok",
          "timestamp": 1524669902048,
          "user_tz": 240,
          "elapsed": 292,
          "user": {
            "displayName": "Sam Wenke",
            "photoUrl": "//lh6.googleusercontent.com/-f8Ky_WO2HTs/AAAAAAAAAAI/AAAAAAAAAG8/Q5eXh5dH1rg/s50-c-k-no/photo.jpg",
            "userId": "108962687437084869445"
          }
        }
      },
      "cell_type": "code",
      "source": [
        "sparse_variables = sess.run(template_variables)\n",
        "for sparse, tfsparse in zip(sparse_variables, template_variables):\n",
        "  nnz = np.count_nonzero(sparse)\n",
        "  n = ay.utils.product(sparse.shape)\n",
        "  print(\"{}: total nonzero {:d}/{:d} = {:.2f}%\".format(\n",
        "      tfsparse.name, int(nnz), int(n), nnz / n * 100.))"
      ],
      "execution_count": 19,
      "outputs": [
        {
          "output_type": "stream",
          "text": [
            "template/conv2d/kernel:0: total nonzero 277/288 = 96.18%\n",
            "template/conv2d/bias:0: total nonzero 27/32 = 84.38%\n",
            "template/conv2d_1/kernel:0: total nonzero 16749/18432 = 90.87%\n",
            "template/conv2d_1/bias:0: total nonzero 0/64 = 0.00%\n",
            "template/dense/kernel:0: total nonzero 29100/4718592 = 0.62%\n",
            "template/dense/bias:0: total nonzero 0/128 = 0.00%\n",
            "template/dense_1/kernel:0: total nonzero 1234/1280 = 96.41%\n",
            "template/dense_1/bias:0: total nonzero 1/10 = 10.00%\n"
          ],
          "name": "stdout"
        }
      ]
    }
  ]
}